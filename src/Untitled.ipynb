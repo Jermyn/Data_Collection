{
 "cells": [
  {
   "cell_type": "code",
   "execution_count": 5,
   "metadata": {},
   "outputs": [],
   "source": [
    "import folium\n",
    "import geopandas\n",
    "\n",
    "# Create a Map instance\n",
    "m = folium.Map(location=[60.25, 24.8], tiles='Stamen Toner',\n",
    "                   zoom_start=10, control_scale=True)"
   ]
  },
  {
   "cell_type": "code",
   "execution_count": 6,
   "metadata": {
    "collapsed": true
   },
   "outputs": [],
   "source": [
    "# Filepath to the output\n",
    "outfp = \"base_map2.html\"\n",
    "\n",
    "# Save the map\n",
    "m.save(outfp)"
   ]
  },
  {
   "cell_type": "code",
   "execution_count": 10,
   "metadata": {},
   "outputs": [
    {
     "name": "stderr",
     "output_type": "stream",
     "text": [
      "/usr/local/lib/python3.6/site-packages/ipykernel_launcher.py:18: DeprecationWarning: \n",
      ".ix is deprecated. Please use\n",
      ".loc for label based indexing or\n",
      ".iloc for positional indexing\n",
      "\n",
      "See the documentation here:\n",
      "http://pandas.pydata.org/pandas-docs/stable/indexing.html#deprecate_ix\n"
     ]
    }
   ],
   "source": [
    "# Filepaths\n",
    "fp = \"/Users/jermz/Desktop/dataE5/Vaestotietoruudukko_2015.shp\"\n",
    "addr_fp = \"/Users/jermz/Desktop/dataE5/addresses.shp\"\n",
    "\n",
    "# Read Data\n",
    "data = geopandas.read_file(fp)\n",
    "ad = geopandas.read_file(addr_fp)\n",
    "\n",
    "# Re-project to WGS84\n",
    "data['geometry'] = data['geometry'].to_crs(epsg=4326)\n",
    "ad['geometry'] = ad['geometry'].to_crs(epsg=4326)\n",
    "\n",
    "# Update the CRS of the GeoDataFrame\n",
    "# data.crs.from_epsg(4326)\n",
    "# ad.crs.from_epsg(4326)\n",
    "\n",
    "# Make a selection (only data above 0 and below 1000)\n",
    "data = data.ix[(data['ASUKKAITA'] > 0) & (data['ASUKKAITA'] <= 1000)]\n",
    "\n",
    "# Create a Geo-id which is needed by the Folium (it needs to have a unique identifier for each row)\n",
    "data['geoid'] = data.index.astype(str)\n",
    "ad['geoid'] = ad.index.astype(str)\n",
    "\n",
    "# Select data\n",
    "data = data[['geoid', 'ASUKKAITA', 'geometry']]\n",
    "\n",
    "# Save the file as geojson\n",
    "jsontxt = data.to_json()"
   ]
  }
 ],
 "metadata": {
  "kernelspec": {
   "display_name": "Python 3",
   "language": "python",
   "name": "python3"
  },
  "language_info": {
   "codemirror_mode": {
    "name": "ipython",
    "version": 3
   },
   "file_extension": ".py",
   "mimetype": "text/x-python",
   "name": "python",
   "nbconvert_exporter": "python",
   "pygments_lexer": "ipython3",
   "version": "3.6.1"
  }
 },
 "nbformat": 4,
 "nbformat_minor": 2
}
